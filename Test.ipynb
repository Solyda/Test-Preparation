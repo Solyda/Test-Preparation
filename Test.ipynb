{
 "cells": [
  {
   "cell_type": "code",
   "execution_count": null,
   "id": "f0b22ab5-1218-47b2-9273-f23d8d9ec085",
   "metadata": {},
   "outputs": [],
   "source": [
    "from difflib import get_close_matches\n",
    "\n",
    "financial_terms = {\n",
    "    'cash in hand': 'Cash',\n",
    "    'ppe': 'Property, Plant, Equipment',\n",
    "    'ar': 'Accounts receivable',\n",
    "    'gross income': 'Gross Revenue'\n",
    "}\n",
    "\n",
    "def find_closest_term(s):\n",
    "    ## get the close match with the financial terms\n",
    "    closest_match = get_close_matches(s.lower(), financial_terms.keys(), n=1)\n",
    "    # Check if it's a closest_match\n",
    "    if closest_match:\n",
    "        return financial_terms[closest_match[0]]\n",
    "    else:\n",
    "        return None"
   ]
  },
  {
   "cell_type": "code",
   "execution_count": null,
   "id": "64dad72f-9647-48fc-a23c-da24f496d4da",
   "metadata": {},
   "outputs": [],
   "source": [
    "input_term = input()\n",
    "output_term = find_closest_term(input_term)\n",
    "print(f\"Closest financial term for '{input_term}': {output_term}\")"
   ]
  },
  {
   "cell_type": "code",
   "execution_count": null,
   "id": "cc4820ff-706d-46a8-959c-79f716bfc6c8",
   "metadata": {},
   "outputs": [],
   "source": []
  },
  {
   "cell_type": "code",
   "execution_count": 1,
   "id": "b3879cbc-61da-4458-a180-460aaf758219",
   "metadata": {},
   "outputs": [],
   "source": [
    "import csv\n",
    "import os\n",
    "import numpy as np\n",
    "import pandas as pd\n",
    "import matplotlib.pyplot as plt"
   ]
  },
  {
   "cell_type": "code",
   "execution_count": 3,
   "id": "d80b1bed-31b1-4a24-b18f-48b1f45a4235",
   "metadata": {},
   "outputs": [],
   "source": [
    "folder_path = \"Data\"\n",
    "files = os.listdir(folder_path)\n",
    "\n",
    "# Initialize empty DataFrames for CY and PY\n",
    "cy_df = pd.DataFrame()\n",
    "py_df = pd.DataFrame()\n",
    "\n",
    "for file in files:\n",
    "    # Read data from the file into a DataFrame\n",
    "    df = pd.read_csv(os.path.join(folder_path, file))\n",
    "\n",
    "    # Check if it's a CY or PY file\n",
    "    if file.startswith('CY'):\n",
    "        cy_df = pd.concat([cy_df, df], ignore_index=True)\n",
    "    elif file.startswith('PY'):\n",
    "        py_df = pd.concat([py_df, df], ignore_index=True)\n",
    "\n",
    "# Export the combined DataFrames to CSV files\n",
    "cy_df.to_csv('Data/CY_full_year.csv', index=False)\n",
    "py_df.to_csv('Data/PY_full_year.csv', index=False)\n"
   ]
  },
  {
   "cell_type": "code",
   "execution_count": 4,
   "id": "77d368a7-fc7e-4b32-abad-e65619ac033a",
   "metadata": {},
   "outputs": [],
   "source": [
    "cy_df = pd.read_csv('Data/CY_full_year.csv')\n",
    "py_df = pd.read_csv('Data/PY_full_year.csv')\n",
    "\n",
    "df = pd.concat([cy_df, py_df], ignore_index=True)"
   ]
  },
  {
   "cell_type": "code",
   "execution_count": 5,
   "id": "f812ca7a-ee56-4380-a0c7-713832590c87",
   "metadata": {},
   "outputs": [],
   "source": [
    "def cash_in_out(amount):\n",
    "    if amount > 0:\n",
    "        return 'Cash in'\n",
    "    elif amount < 0:\n",
    "        return 'Cash out'\n",
    "    else:\n",
    "        return 'N/A'  # Or any other value for zero amounts\n",
    "\n",
    "# Create a new column \"Cash in/Cash out\" using the custom function\n",
    "df['Reporting Amount'] = df['Reporting Amount'].astype(float)\n",
    "df['Cash in/Cash out'] = df['Reporting Amount'].apply(cash_in_out)"
   ]
  },
  {
   "cell_type": "code",
   "execution_count": 6,
   "id": "75d894f1-98cf-4dda-abc7-2158c59bde77",
   "metadata": {},
   "outputs": [
    {
     "name": "stdout",
     "output_type": "stream",
     "text": [
      "Account Number\n",
      "4    33731.0\n",
      "3    31054.0\n",
      "1     3838.0\n",
      "2     1147.0\n",
      "Name: Reporting Amount, dtype: float64\n"
     ]
    }
   ],
   "source": [
    "# Group by \"Account Numbers\" and calculate the sum of absolute \"Reporting Amount\"\n",
    "account_sums = df.groupby('Account Number')['Reporting Amount'].apply(lambda x: x.abs().sum())\n",
    "\n",
    "top_accounts = account_sums.nlargest(10)\n",
    "print(top_accounts)"
   ]
  },
  {
   "cell_type": "code",
   "execution_count": 7,
   "id": "dba91af3-e79d-499b-a3c1-25c31d9c8e9b",
   "metadata": {},
   "outputs": [],
   "source": [
    "df['Transaction Date'] = pd.to_datetime(df['Transaction Date'])\n",
    "df['Quarter'] = df['Transaction Date'].dt.quarter"
   ]
  },
  {
   "cell_type": "code",
   "execution_count": 8,
   "id": "6b0d269a-b6f7-483e-a35d-216d8bef822c",
   "metadata": {},
   "outputs": [
    {
     "data": {
      "text/html": [
       "<div>\n",
       "<style scoped>\n",
       "    .dataframe tbody tr th:only-of-type {\n",
       "        vertical-align: middle;\n",
       "    }\n",
       "\n",
       "    .dataframe tbody tr th {\n",
       "        vertical-align: top;\n",
       "    }\n",
       "\n",
       "    .dataframe thead th {\n",
       "        text-align: right;\n",
       "    }\n",
       "</style>\n",
       "<table border=\"1\" class=\"dataframe\">\n",
       "  <thead>\n",
       "    <tr style=\"text-align: right;\">\n",
       "      <th></th>\n",
       "      <th>Account Number</th>\n",
       "      <th>Transaction Date</th>\n",
       "      <th>Reporting Amount</th>\n",
       "      <th>Purpose</th>\n",
       "      <th>Cash in/Cash out</th>\n",
       "      <th>Quarter</th>\n",
       "    </tr>\n",
       "  </thead>\n",
       "  <tbody>\n",
       "    <tr>\n",
       "      <th>0</th>\n",
       "      <td>2</td>\n",
       "      <td>2024-12-08</td>\n",
       "      <td>10.0</td>\n",
       "      <td>A</td>\n",
       "      <td>Cash in</td>\n",
       "      <td>4</td>\n",
       "    </tr>\n",
       "    <tr>\n",
       "      <th>1</th>\n",
       "      <td>2</td>\n",
       "      <td>2024-12-08</td>\n",
       "      <td>-10.0</td>\n",
       "      <td>A</td>\n",
       "      <td>Cash out</td>\n",
       "      <td>4</td>\n",
       "    </tr>\n",
       "    <tr>\n",
       "      <th>2</th>\n",
       "      <td>2</td>\n",
       "      <td>2024-12-09</td>\n",
       "      <td>5.0</td>\n",
       "      <td>A</td>\n",
       "      <td>Cash in</td>\n",
       "      <td>4</td>\n",
       "    </tr>\n",
       "    <tr>\n",
       "      <th>3</th>\n",
       "      <td>2</td>\n",
       "      <td>2024-12-10</td>\n",
       "      <td>3.0</td>\n",
       "      <td>A</td>\n",
       "      <td>Cash in</td>\n",
       "      <td>4</td>\n",
       "    </tr>\n",
       "    <tr>\n",
       "      <th>4</th>\n",
       "      <td>2</td>\n",
       "      <td>2024-12-11</td>\n",
       "      <td>2.0</td>\n",
       "      <td>A</td>\n",
       "      <td>Cash in</td>\n",
       "      <td>4</td>\n",
       "    </tr>\n",
       "  </tbody>\n",
       "</table>\n",
       "</div>"
      ],
      "text/plain": [
       "   Account Number Transaction Date  Reporting Amount Purpose Cash in/Cash out  \\\n",
       "0               2       2024-12-08              10.0       A          Cash in   \n",
       "1               2       2024-12-08             -10.0       A         Cash out   \n",
       "2               2       2024-12-09               5.0       A          Cash in   \n",
       "3               2       2024-12-10               3.0       A          Cash in   \n",
       "4               2       2024-12-11               2.0       A          Cash in   \n",
       "\n",
       "   Quarter  \n",
       "0        4  \n",
       "1        4  \n",
       "2        4  \n",
       "3        4  \n",
       "4        4  "
      ]
     },
     "execution_count": 8,
     "metadata": {},
     "output_type": "execute_result"
    }
   ],
   "source": [
    "df.head()"
   ]
  },
  {
   "cell_type": "code",
   "execution_count": 9,
   "id": "09bc0793-7ba2-4432-b3fa-044982a076dc",
   "metadata": {},
   "outputs": [
    {
     "data": {
      "image/png": "[encoded data removed]",
      "text/plain": [
       "<Figure size 720x504 with 1 Axes>"
      ]
     },
     "metadata": {},
     "output_type": "display_data"
    }
   ],
   "source": [
    "purpose_counts = py_df['Purpose'].value_counts()\n",
    "\n",
    "# Plot a pie chart\n",
    "plt.figure(figsize=(10, 7))\n",
    "plt.pie(purpose_counts, labels=purpose_counts.index, autopct='%1.1f%%')\n",
    "plt.title('Distribution of Transactions by Purpose in the Prior Year')\n",
    "plt.show()"
   ]
  },
  {
   "cell_type": "markdown",
   "id": "e23abf6f-422d-4ebb-9704-acf760fc01b0",
   "metadata": {},
   "source": [
    "\n",
    "Key economic indicators that data analysts should monitor to assess the overall health and stability of an economy include:\n",
    "\n",
    "Gross Domestic Product (GDP): GDP measures the total value of all goods and services produced within a country's borders. It provides insight into the overall economic output and growth of an economy.\n",
    "\n",
    "Unemployment Rate: The unemployment rate reflects the percentage of the labor force that is unemployed and actively seeking employment. It indicates the health of the labor market and can signal changes in consumer spending and overall economic activity.\n",
    "\n",
    "Inflation Rate: Inflation measures the rate at which the general level of prices for goods and services is rising. It affects purchasing power, interest rates, and investment decisions, making it a crucial indicator for assessing economic stability.\n",
    "\n",
    "Consumer Confidence Index (CCI): CCI measures consumers' sentiment and outlook on current economic conditions and future expectations. It influences consumer spending behavior and overall economic growth.\n",
    "\n",
    "Industrial Production Index (IPI): IPI tracks the output of manufacturing, mining, and utilities sectors. It provides insights into the health of the industrial sector and overall production activity.\n",
    "\n",
    "Retail Sales: Retail sales data measures the total receipts from stores selling merchandise and services to consumers. It reflects consumer spending patterns and sentiment, which are key drivers of economic growth.\n",
    "\n",
    "Housing Market Indicators: These include metrics such as housing starts, home prices, and mortgage rates. They provide insights into the health of the real estate market, consumer wealth, and overall economic activity.\n",
    "\n",
    "Data analytics can be used to extract meaningful insights from these economic indicators in several ways:\n",
    "\n",
    "Time Series Analysis: Analyzing historical data over time can identify trends, patterns, and cyclical fluctuations in economic indicators. This information helps forecast future trends and make informed decisions.\n",
    "\n",
    "Correlation Analysis: Identifying correlations between economic indicators and other variables, such as consumer behavior, employment trends, or financial market performance, can provide valuable insights into cause-and-effect relationships.\n",
    "\n",
    "Predictive Modeling: Building predictive models using economic indicators as input variables can forecast future economic conditions, consumer behavior, and market trends. These models enable businesses to anticipate changes and adjust strategies accordingly.\n",
    "\n",
    "Sentiment Analysis: Analyzing textual data from sources such as social media, news articles, and surveys can gauge public sentiment and opinions about the economy. Sentiment analysis provides additional context to quantitative data and helps understand consumer behavior and market sentiment.\n",
    "\n",
    "Economic Impact Assessments: Assessing the potential impact of policy changes, economic events, or external factors on economic indicators can inform decision-making and risk management strategies for businesses and policymakers.\n",
    "\n",
    "Overall, data analytics enables businesses, policymakers, and analysts to gain deeper insights into economic indicators, identify emerging trends and risks, and make data-driven decisions to navigate economic uncertainties and capitalize on opportunities."
   ]
  },
  {
   "cell_type": "code",
   "execution_count": null,
   "id": "824db656-bfbe-4bf0-9d44-1cd84dd853f2",
   "metadata": {},
   "outputs": [],
   "source": []
  }
 ],
 "metadata": {
  "kernelspec": {
   "display_name": "Python 3",
   "language": "python",
   "name": "python3"
  },
  "language_info": {
   "codemirror_mode": {
    "name": "ipython",
    "version": 3
   },
   "file_extension": ".py",
   "mimetype": "text/x-python",
   "name": "python",
   "nbconvert_exporter": "python",
   "pygments_lexer": "ipython3",
   "version": "3.9.1"
  }
 },
 "nbformat": 4,
 "nbformat_minor": 5
}
