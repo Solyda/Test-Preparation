{
 "cells": [
  {
   "cell_type": "code",
   "execution_count": null,
   "id": "f0b22ab5-1218-47b2-9273-f23d8d9ec085",
   "metadata": {},
   "outputs": [],
   "source": [
    "from difflib import get_close_matches\n",
    "\n",
    "financial_terms = {\n",
    "    'cash in hand': 'Cash',\n",
    "    'ppe': 'Property, Plant, Equipment',\n",
    "    'ar': 'Accounts receivable',\n",
    "    'gross income': 'Gross Revenue'\n",
    "}\n",
    "\n",
    "def find_closest_term(s):\n",
    "    ## get the close match with the financial terms\n",
    "    closest_match = get_close_matches(s.lower(), financial_terms.keys(), n=1)\n",
    "    # Check if it's a closest_match\n",
    "    if closest_match:\n",
    "        return financial_terms[closest_match[0]]\n",
    "    else:\n",
    "        return None"
   ]
  },
  {
   "cell_type": "code",
   "execution_count": null,
   "id": "64dad72f-9647-48fc-a23c-da24f496d4da",
   "metadata": {},
   "outputs": [],
   "source": [
    "input_term = input()\n",
    "output_term = find_closest_term(input_term)\n",
    "print(f\"Closest financial term for '{input_term}': {output_term}\")"
   ]
  },
  {
   "cell_type": "code",
   "execution_count": null,
   "id": "cc4820ff-706d-46a8-959c-79f716bfc6c8",
   "metadata": {},
   "outputs": [],
   "source": []
  },
  {
   "cell_type": "code",
   "execution_count": 1,
   "id": "b3879cbc-61da-4458-a180-460aaf758219",
   "metadata": {},
   "outputs": [],
   "source": [
    "import csv\n",
    "import os\n",
    "import pandas as pd"
   ]
  },
  {
   "cell_type": "code",
   "execution_count": 2,
   "id": "d80b1bed-31b1-4a24-b18f-48b1f45a4235",
   "metadata": {},
   "outputs": [],
   "source": [
    "folder_path = \"Data\"\n",
    "files = os.listdir(folder_path)\n",
    "\n",
    "# Initialize empty DataFrames for CY and PY\n",
    "cy_df = pd.DataFrame()\n",
    "py_df = pd.DataFrame()\n",
    "\n",
    "for file in files:\n",
    "    # Read data from the file into a DataFrame\n",
    "    df = pd.read_csv(os.path.join(folder_path, file))\n",
    "\n",
    "    # Check if it's a CY or PY file\n",
    "    if file.startswith('CY'):\n",
    "        cy_df = pd.concat([cy_df, df], ignore_index=True)\n",
    "    elif file.startswith('PY'):\n",
    "        py_df = pd.concat([py_df, df], ignore_index=True)\n",
    "\n",
    "# Export the combined DataFrames to CSV files\n",
    "cy_df.to_csv('Data/CY_full_year.csv', index=False)\n",
    "py_df.to_csv('Data/PY_full_year.csv', index=False)\n"
   ]
  },
  {
   "cell_type": "code",
   "execution_count": 4,
   "id": "77d368a7-fc7e-4b32-abad-e65619ac033a",
   "metadata": {},
   "outputs": [],
   "source": [
    "cy_df = pd.read_csv('Data/CY_full_year.csv')\n",
    "py_df = pd.read_csv('Data/PY_full_year.csv')\n",
    "\n",
    "# Concatenate the DataFrames\n",
    "df = pd.concat([cy_df, py_df], ignore_index=True)"
   ]
  },
  {
   "cell_type": "code",
   "execution_count": null,
   "id": "0eb3f38c-6753-4604-9f7f-a3ccb454c5ad",
   "metadata": {},
   "outputs": [],
   "source": [
    "df[\"Cash in/Cash out\"] = "
   ]
  }
 ],
 "metadata": {
  "kernelspec": {
   "display_name": "Python 3",
   "language": "python",
   "name": "python3"
  },
  "language_info": {
   "codemirror_mode": {
    "name": "ipython",
    "version": 3
   },
   "file_extension": ".py",
   "mimetype": "text/x-python",
   "name": "python",
   "nbconvert_exporter": "python",
   "pygments_lexer": "ipython3",
   "version": "3.9.1"
  }
 },
 "nbformat": 4,
 "nbformat_minor": 5
}
