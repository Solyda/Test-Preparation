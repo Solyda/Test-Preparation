{
 "cells": [
  {
   "cell_type": "code",
   "execution_count": null,
   "id": "f0b22ab5-1218-47b2-9273-f23d8d9ec085",
   "metadata": {},
   "outputs": [],
   "source": [
    "from difflib import get_close_matches\n",
    "\n",
    "financial_terms = {\n",
    "    'cash in hand': 'Cash',\n",
    "    'ppe': 'Property, Plant, Equipment',\n",
    "    'ar': 'Accounts receivable',\n",
    "    'gross income': 'Gross Revenue'\n",
    "}\n",
    "\n",
    "def find_closest_term(s):\n",
    "    ## get the close match with the financial terms\n",
    "    closest_match = get_close_matches(s.lower(), financial_terms.keys(), n=1)\n",
    "\n",
    "    if closest_match:\n",
    "        return financial_terms[closest_match[0]]\n",
    "    else:\n",
    "        return None"
   ]
  },
  {
   "cell_type": "code",
   "execution_count": null,
   "id": "64dad72f-9647-48fc-a23c-da24f496d4da",
   "metadata": {},
   "outputs": [],
   "source": [
    "input_term = input()\n",
    "output_term = find_closest_term(input_term)\n",
    "print(f\"Closest financial term for '{input_term}': {output_term}\")"
   ]
  },
  {
   "cell_type": "code",
   "execution_count": null,
   "id": "cc4820ff-706d-46a8-959c-79f716bfc6c8",
   "metadata": {},
   "outputs": [],
   "source": []
  }
 ],
 "metadata": {
  "kernelspec": {
   "display_name": "Python 3",
   "language": "python",
   "name": "python3"
  },
  "language_info": {
   "codemirror_mode": {
    "name": "ipython",
    "version": 3
   },
   "file_extension": ".py",
   "mimetype": "text/x-python",
   "name": "python",
   "nbconvert_exporter": "python",
   "pygments_lexer": "ipython3",
   "version": "3.9.1"
  }
 },
 "nbformat": 4,
 "nbformat_minor": 5
}
